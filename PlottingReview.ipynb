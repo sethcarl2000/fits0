{
 "cells": [
  {
   "cell_type": "markdown",
   "id": "0",
   "metadata": {},
   "source": [
    "Plotting Review\n",
    "===\n",
    "\n",
    "This notebook will briefly review the most basic plotting tools in [matplotlib](https://matplotlib.org/stable/) and [ROOT](https://root.cern/manual/basics/)\n",
    "\n",
    "\n",
    "**Important reminder: you can always ask in the dicsussion group if you need help or examples for using any of the tools in this class.**"
   ]
  },
  {
   "cell_type": "markdown",
   "id": "1",
   "metadata": {},
   "source": [
    "Matplotlib quick review\n",
    "---\n",
    "\n",
    "Matplotlib contains a large array of plotting tools.  Therefore, you can expect to be browsing documentation frequently as you work with this module.  The home page has generally useful examples you can follow for using each tool.\n",
    "\n",
    "We will review there following types of plots:\n",
    "\n",
    "* Basic Graphs\n",
    "* 1D and 2D Histograms\n",
    "\n",
    "**Graphs**\n",
    "\n",
    "The basic graph is made as follows:\n",
    "\n",
    "https://matplotlib.org/stable/plot_types/basic/plot.html#sphx-glr-plot-types-basic-plot-py"
   ]
  },
  {
   "cell_type": "code",
   "execution_count": null,
   "id": "2",
   "metadata": {},
   "outputs": [],
   "source": [
    "import numpy as np\n",
    "from matplotlib import pyplot as plt \n",
    "\n",
    "x = np.array([0.0,1.0,2.0,3.0], dtype='d')  # x_1\n",
    "y = np.array([1.4,1.5,3.7,4.1], dtype='d')  # y_i\n",
    "e = np.array([0.5,0.2,1.0,0.5], dtype='d')  # sigma_i\n",
    "\n",
    "plt.plot(x, y)\n",
    "#plt.show()  # needed if we are NOT running in a notebook  "
   ]
  },
  {
   "cell_type": "markdown",
   "id": "3",
   "metadata": {},
   "source": [
    "**A graph with errorbars and better labeling**\n",
    "\n",
    "https://matplotlib.org/stable/plot_types/stats/errorbar_plot.html"
   ]
  },
  {
   "cell_type": "code",
   "execution_count": null,
   "id": "4",
   "metadata": {},
   "outputs": [],
   "source": [
    "fig,ax=plt.subplots()\n",
    "ax.errorbar(x, y, yerr=e)\n",
    "ax.set_title(\"A good title for my data\")\n",
    "ax.set(xlabel='x-label', ylabel='y-label')\n",
    "#fig.show()"
   ]
  },
  {
   "cell_type": "markdown",
   "id": "5",
   "metadata": {},
   "source": [
    "Graphs of functions are just performed using arrays"
   ]
  },
  {
   "cell_type": "code",
   "execution_count": null,
   "id": "6",
   "metadata": {},
   "outputs": [],
   "source": [
    "x=np.linspace(0,10)\n",
    "y=np.sin(x)\n",
    "fig,ax=plt.subplots()\n",
    "ax.errorbar(x, y)\n",
    "ax.set_title(\"Sin function\")\n",
    "ax.set(xlabel='x', ylabel='sin(x)')\n",
    "#fig.show()"
   ]
  },
  {
   "cell_type": "markdown",
   "id": "7",
   "metadata": {},
   "source": [
    "**Histograms**\n",
    "\n",
    "See documentation: https://matplotlib.org/stable/gallery/statistics/hist.html#histograms\n",
    "\n",
    "Below we specify the binning, but let matplotlib determine the range.  Gor range setting and other option see here: https://matplotlib.org/stable/api/_as_gen/matplotlib.pyplot.hist.html"
   ]
  },
  {
   "cell_type": "code",
   "execution_count": null,
   "id": "8",
   "metadata": {},
   "outputs": [],
   "source": [
    "mu=50\n",
    "sigma=10\n",
    "nsamples=10000\n",
    "samples = np.random.normal(mu,sigma,nsamples)\n",
    "nbins=100\n",
    "fig,ax=plt.subplots()\n",
    "ax.hist(samples,bins=nbins)\n",
    "ax.set_title(\"A normal distribution\")\n",
    "ax.set(xlabel='x', ylabel='frequency')\n",
    "#fig.show()"
   ]
  },
  {
   "cell_type": "markdown",
   "id": "9",
   "metadata": {},
   "source": [
    "Try to make a version of thsis plot with 50 bins and the range set to the interval [0,100]"
   ]
  },
  {
   "cell_type": "code",
   "execution_count": null,
   "id": "10",
   "metadata": {},
   "outputs": [],
   "source": [
    "# practice here"
   ]
  },
  {
   "cell_type": "markdown",
   "id": "11",
   "metadata": {},
   "source": [
    "**2D histogram example**"
   ]
  },
  {
   "cell_type": "code",
   "execution_count": null,
   "id": "12",
   "metadata": {},
   "outputs": [],
   "source": [
    "x = np.random.normal(mu,sigma,nsamples)\n",
    "y = x+np.random.normal(x,sigma)\n",
    "\n",
    "fig, ax = plt.subplots(tight_layout=True)\n",
    "hist = ax.hist2d(x, y,bins=(40,40))\n",
    "#fig.show()"
   ]
  },
  {
   "cell_type": "markdown",
   "id": "13",
   "metadata": {},
   "source": [
    "Matplotlib practice\n",
    "-----\n",
    "\n",
    "* make a plot with two panels showing the 1d and 2d histograms together\n",
    "* make an overlay of a \"function\" and a histogram\n",
    "* plot the 2D histogram as a 2D bar (lego) plot"
   ]
  },
  {
   "cell_type": "markdown",
   "id": "14",
   "metadata": {},
   "source": [
    "Root plots quick review\n",
    "----\n",
    "\n",
    "The [ROOT manual basics webpage](https://root.cern/manual/basics/) is an excellent source to start browsing the documentation.\n",
    "\n",
    "Objects in ROOT have many features, too many to memorize. You will need to frequently refer to the ROOT documentation as you prepare your code. This is generally true for any complex package you will be using in your work. In this tutorial, we will mostly use the following classes:\n",
    "\n",
    "* (TGraph)[https://root.cern.ch/doc/master/classTGraph.html]: Graph of x-y data points\n",
    "* (TH1)[https://root.cern.ch/doc/master/classTH1.html]: 1D Histogram (base class)\n",
    "  * (TH1F)[https://root.cern.ch/root/html/TH1F.html]: 1D Histogram (of floats)\n",
    "  * (TH2F)[https://root.cern.ch/root/html/TH2F.html]: 2D Histogram (of floats)\n",
    "* (TF1)[https://root.cern.ch/root/html/TF1.html]: a class to model 1D functions\n",
    "\n",
    "The examples below are given in PyROOT.  The interfaces are the same in Python and C++, with substitution of pointer notation as necessary.  You can find additional C++ examples of using ROOT objects in programs provided throughout the semester.\n",
    "\n",
    "**We begin with the TGraph**\n",
    "The TGraph is a container of x,y vectors"
   ]
  },
  {
   "cell_type": "code",
   "execution_count": null,
   "id": "15",
   "metadata": {},
   "outputs": [],
   "source": [
    "import ROOT as r\n",
    "\n",
    "xmin=0.0\n",
    "xmax=10.0\n",
    "nx=20\n",
    "\n",
    "tg = r.TGraph()\n",
    "dx=(xmax-xmin)/nx\n",
    "for i in range(nx):\n",
    "    x = xmin+dx*i\n",
    "    tg.SetPoint(i,x,x*x)\n",
    "\n",
    "# comment 1: here we filled the graph 1 point at a time, other methods are possible, eg using x,y arrays to fill the graph\n",
    "\n",
    "print(\"Points in the graph\",tg.GetN())\n",
    "\n",
    "# add some decorations\n",
    "tg.SetTitle(\"Mytitle;x-label;y-label\")\n",
    "\n",
    "# create a TCanvas \n",
    "tc = r.TCanvas()\n",
    "# draw the graph\n",
    "tg.Draw(\"A*c\")    # A = calculate and draw axes, * = mark points with a *, c connect the points with a smooth curve\n",
    "# draw the canvas\n",
    "tc.Draw()"
   ]
  },
  {
   "cell_type": "markdown",
   "id": "16",
   "metadata": {},
   "source": [
    "Note that if we aren't running in a notebook, we can skip the creation of a TCanvas.  In that case ROOT will create and display a default canvas.  But it is often useful to create your own canvas explicitly, especially if you want to have multiple plot windows displayed at the same time.\n",
    "\n",
    "Next let's generate a couple of histograms of the 1d and 2d variety"
   ]
  },
  {
   "cell_type": "code",
   "execution_count": null,
   "id": "17",
   "metadata": {},
   "outputs": [],
   "source": [
    "h1 = r.TH1F(\"h1\",\"My 1d histogram;x;frequency\",100,0,100)  # 100 bins in range [0,100]\n",
    "rand=r.TRandom2()\n",
    "for i in range(nsamples):\n",
    "    h1.Fill(rand.Gaus(mu,sigma))\n",
    "\n",
    "h2 = r.TH2F(\"h2\",\"My 2d histogram;x;frequency\",40,0,100,40,0,200)  # (40,40) bins in range x=[0,100], y=[0;200]\n",
    "for i in range(nsamples):\n",
    "    x = rand.Gaus(mu,sigma)\n",
    "    y = x + rand.Gaus(x,sigma)\n",
    "    h2.Fill(x,y)"
   ]
  },
  {
   "cell_type": "code",
   "execution_count": null,
   "id": "18",
   "metadata": {},
   "outputs": [],
   "source": [
    "# let's make a new canvas with two panels and draw these\n",
    "tc2=r.TCanvas()\n",
    "tc2.Divide(2,1)\n",
    "tc2.cd(1)\n",
    "h1.Draw()\n",
    "tc2.cd(2)\n",
    "h2.Draw()\n",
    "tc2.Draw()"
   ]
  },
  {
   "cell_type": "code",
   "execution_count": null,
   "id": "19",
   "metadata": {},
   "outputs": [],
   "source": [
    "# and let's play with some drawing options\n",
    "# all the drawing options can of course be found in the documentation\n",
    "# for the THistPainter Class\n",
    "tc2.cd(1)\n",
    "h1.Draw(\"e\")\n",
    "tc2.cd(2)\n",
    "h2.Draw(\"surf3\")\n",
    "tc2.Draw()"
   ]
  },
  {
   "cell_type": "markdown",
   "id": "20",
   "metadata": {},
   "source": [
    "Finally a quick look at the TF1 or 1D fucntion"
   ]
  },
  {
   "cell_type": "code",
   "execution_count": null,
   "id": "21",
   "metadata": {},
   "outputs": [],
   "source": [
    "fun1 = r.TF1(\"fun1\",\"3*sin(x)/(x)\",0.0001,10)    # a simple function\n",
    "fun2 = r.TF1(\"fun2\",\"[0]+[1]*x+[2]*x*x\",0,10)    # a function with adjustable parameters\n",
    "fun2.SetParameters(1,3,-0.4)\n",
    "\n",
    "# some decorations\n",
    "fun2.SetLineColor(r.kBlue)\n",
    "fun2.SetTitle(\"Mytitle;x;y\")\n",
    "\n",
    "\n",
    "tc.cd()  # move back to our original canvas\n",
    "fun2.Draw()\n",
    "fun1.Draw(\"same\")\n",
    "tc.Draw()"
   ]
  },
  {
   "cell_type": "markdown",
   "id": "22",
   "metadata": {},
   "source": [
    "ROOT Practice\n",
    "----\n",
    "\n",
    "* make an overlay of a \"function\" and a histogram\n",
    "* plot the 2D histogram as a 2D colormap"
   ]
  },
  {
   "cell_type": "code",
   "execution_count": null,
   "id": "23",
   "metadata": {},
   "outputs": [],
   "source": []
  }
 ],
 "metadata": {
  "kernelspec": {
   "display_name": "Python 3 (ipykernel)",
   "language": "python",
   "name": "python3"
  },
  "language_info": {
   "codemirror_mode": {
    "name": "ipython",
    "version": 3
   },
   "file_extension": ".py",
   "mimetype": "text/x-python",
   "name": "python",
   "nbconvert_exporter": "python",
   "pygments_lexer": "ipython3",
   "version": "3.12.11"
  }
 },
 "nbformat": 4,
 "nbformat_minor": 5
}
